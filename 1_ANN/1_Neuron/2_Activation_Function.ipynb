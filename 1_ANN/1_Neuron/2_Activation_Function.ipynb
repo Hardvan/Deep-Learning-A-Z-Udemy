{
 "cells": [
  {
   "cell_type": "markdown",
   "metadata": {},
   "source": [
    "## `Activation Function`\n",
    "What is an activation function?  \n",
    "It is used to introduce **non-linearity** in a neural network.  \n"
   ]
  },
  {
   "cell_type": "markdown",
   "metadata": {},
   "source": [
    "### 1) `Threshold Function`\n",
    "#### It is a **step** function.  \n",
    "Formula:  \n",
    "if x >= 0: return 1  \n",
    "if x<0: return 0"
   ]
  },
  {
   "cell_type": "markdown",
   "metadata": {},
   "source": [
    "### 2) `Sigmoid Function`\n",
    "#### It is a **S**haped function.  \n",
    "#### It is used in the output layer of a binary classification problem.\n",
    "Formula:  \n",
    "return 1/(1+exp(-x))"
   ]
  },
  {
   "cell_type": "markdown",
   "metadata": {},
   "source": [
    "### 3) `Rectifier Function`\n",
    "#### It is a **U**-shaped function.\n",
    "#### It is used in the hidden layers of a neural network.\n",
    "Formula:  \n",
    "return max(x,0)"
   ]
  },
  {
   "cell_type": "markdown",
   "metadata": {},
   "source": [
    "### 4) `Hyperbolic Tangent Function`\n",
    "#### It is a **S**haped function.\n",
    "#### It is used in the hidden layers of a neural network.\n",
    "Formula:  \n",
    "return tanh(x)  \n",
    "or  \n",
    "return (exp(x)-exp(-x))/(exp(x)+exp(-x))  \n",
    "or  \n",
    "return (exp(2x)-1)/(exp(2x)+1)"
   ]
  },
  {
   "cell_type": "markdown",
   "metadata": {},
   "source": []
  }
 ],
 "metadata": {
  "language_info": {
   "name": "python"
  },
  "orig_nbformat": 4
 },
 "nbformat": 4,
 "nbformat_minor": 2
}

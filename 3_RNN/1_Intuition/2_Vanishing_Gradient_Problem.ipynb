{
 "cells": [
  {
   "cell_type": "markdown",
   "metadata": {},
   "source": [
    "## Weight recurrence\n",
    "if Wrec is small, Vanishing  \n",
    "if Wrec is large, Exploding"
   ]
  },
  {
   "cell_type": "markdown",
   "metadata": {},
   "source": [
    "## Solutions for:\n",
    "### 1) Exploding Gradient\n",
    "- Truncated Backpropogation\n",
    "- Penalties\n",
    "- Gradient Clipping\n",
    "### 2) Vanishing Gradient\n",
    "- Weight Initialization\n",
    "- Echo State Networks\n",
    "- Long Short-Term Memory Networks (LSTMs)"
   ]
  }
 ],
 "metadata": {
  "kernelspec": {
   "display_name": "Python 3.10.4 64-bit",
   "language": "python",
   "name": "python3"
  },
  "language_info": {
   "name": "python",
   "version": "3.10.4"
  },
  "orig_nbformat": 4,
  "vscode": {
   "interpreter": {
    "hash": "a42ccb73e7d9bfdf27e036f1d2b8b681e55fc0743cc5586bc2474d4a60f4b886"
   }
  }
 },
 "nbformat": 4,
 "nbformat_minor": 2
}

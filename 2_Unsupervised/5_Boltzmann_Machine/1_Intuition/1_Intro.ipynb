{
 "cells": [
  {
   "cell_type": "markdown",
   "metadata": {},
   "source": [
    "# `Deep Boltzmann Machines`"
   ]
  },
  {
   "cell_type": "markdown",
   "metadata": {},
   "source": [
    "- Used for **recommendation systems**\n",
    "- It is a **stochastic neural network**  \n",
    "Q: What is a stochastic neural network?  \n",
    "A: A neural network that uses **stochasticity** to learn the distribution of the data  \n",
    "Q: What is stochasticity?  \n",
    "A: It is the use of **randomness** in a process"
   ]
  },
  {
   "cell_type": "markdown",
   "metadata": {},
   "source": [
    "<img src=\"./images/BoltzmannMachine.png\" width=720px>"
   ]
  },
  {
   "cell_type": "markdown",
   "metadata": {},
   "source": [
    "We can model a nuclear reactor as a Boltzmann machine."
   ]
  },
  {
   "cell_type": "markdown",
   "metadata": {},
   "source": [
    "It is called a **Boltzmann machine** because it is based on the **Boltzmann distribution**.  \n",
    "Formula of the Boltzmann distribution:  \n",
    "$$P(x) = \\frac{1}{Z}e^{-\\beta E(x)}$$  \n",
    "Where:  \n",
    "- $P(x)$ is the probability of the state $x$  \n",
    "- $Z$ is the **partition function**  \n",
    "- $\\beta$ is the **inverse temperature**  \n",
    "- $E(x)$ is the **energy** of the state $x$  \n",
    "- $x$ is the state of the system"
   ]
  }
 ],
 "metadata": {
  "kernelspec": {
   "display_name": "Python 3.10.4 64-bit",
   "language": "python",
   "name": "python3"
  },
  "language_info": {
   "name": "python",
   "version": "3.10.4"
  },
  "orig_nbformat": 4,
  "vscode": {
   "interpreter": {
    "hash": "a42ccb73e7d9bfdf27e036f1d2b8b681e55fc0743cc5586bc2474d4a60f4b886"
   }
  }
 },
 "nbformat": 4,
 "nbformat_minor": 2
}

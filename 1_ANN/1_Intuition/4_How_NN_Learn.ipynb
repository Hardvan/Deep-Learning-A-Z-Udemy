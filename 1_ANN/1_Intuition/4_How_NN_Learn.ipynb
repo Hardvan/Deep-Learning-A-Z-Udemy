{
 "cells": [
  {
   "cell_type": "markdown",
   "metadata": {},
   "source": [
    "* #### The output value predicted y is compared with actual value y\n",
    "* #### The difference between the predicted and actual value is calculated as **error** with a loss function\n",
    "* #### This process is repeated for all the records\n",
    "* #### The error is then used to update the **weights** and **bias** of the network\n",
    "* #### The process is repeated for a number of **epochs**"
   ]
  }
 ],
 "metadata": {
  "kernelspec": {
   "display_name": "Python 3.11.0 64-bit",
   "language": "python",
   "name": "python3"
  },
  "language_info": {
   "name": "python",
   "version": "3.11.0"
  },
  "orig_nbformat": 4,
  "vscode": {
   "interpreter": {
    "hash": "72b2382ece9768098284d92bbc69d35954e75b60d1e25897d1389c232f4796f0"
   }
  }
 },
 "nbformat": 4,
 "nbformat_minor": 2
}

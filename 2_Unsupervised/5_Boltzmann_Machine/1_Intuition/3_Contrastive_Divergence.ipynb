{
 "cells": [
  {
   "cell_type": "markdown",
   "metadata": {},
   "source": [
    "# `Contrastive Divergence`"
   ]
  },
  {
   "cell_type": "markdown",
   "metadata": {},
   "source": [
    "- It is a method to **approximate** the **gradient** of the log-likelihood of the data.\n",
    "- It is used to train the RBM.  \n",
    "Formula: $$\\frac{\\partial \\log p(v)}{\\partial W_{ij}} = \\mathbb{E}_{p(h|v)}[v_ih_j] - \\mathbb{E}_{p(h|v')}[v_ih_j]$$"
   ]
  },
  {
   "cell_type": "markdown",
   "metadata": {},
   "source": [
    "<img src=\"./images/ContrastiveDivergence.png\" width=720px>"
   ]
  },
  {
   "cell_type": "markdown",
   "metadata": {},
   "source": [
    "<img src=\"./images/ContrastiveDivergence2.png\" width=720px>"
   ]
  },
  {
   "cell_type": "markdown",
   "metadata": {},
   "source": [
    "<img src=\"./images/ContrastiveDivergence3.png\" width=720px>"
   ]
  }
 ],
 "metadata": {
  "kernelspec": {
   "display_name": "Python 3.10.4 64-bit",
   "language": "python",
   "name": "python3"
  },
  "language_info": {
   "name": "python",
   "version": "3.10.4"
  },
  "orig_nbformat": 4,
  "vscode": {
   "interpreter": {
    "hash": "a42ccb73e7d9bfdf27e036f1d2b8b681e55fc0743cc5586bc2474d4a60f4b886"
   }
  }
 },
 "nbformat": 4,
 "nbformat_minor": 2
}

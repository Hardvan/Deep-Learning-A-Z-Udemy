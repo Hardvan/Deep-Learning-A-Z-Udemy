{
 "cells": [
  {
   "cell_type": "markdown",
   "metadata": {},
   "source": [
    "<img src=\"../images/StochasticGradientDescent.png\" width = 720px>"
   ]
  },
  {
   "cell_type": "markdown",
   "metadata": {},
   "source": [
    "### In Stochastic Gradient Descent:\n",
    "\n",
    "- we **update the weights** after **each training example** (record).\n",
    "- This is in contrast to Batch Gradient Descent where we update the weights after each epoch.\n",
    "- Advantage: **Faster** than Batch Gradient Descent.\n",
    "- Disadvantage: **Less stable** than Batch Gradient Descent.  \n",
    "The weights will bounce around and never settle down to a minimum.  \n",
    "This is why we need to gradually reduce the learning rate."
   ]
  },
  {
   "cell_type": "markdown",
   "metadata": {},
   "source": [
    "<img src=\"http://pages.cs.wisc.edu/~spehlmann/cs760/_site//assets/SGDvGD.svg\" width=720px>"
   ]
  }
 ],
 "metadata": {
  "kernelspec": {
   "display_name": "Python 3.11.0 64-bit",
   "language": "python",
   "name": "python3"
  },
  "language_info": {
   "codemirror_mode": {
    "name": "ipython",
    "version": 3
   },
   "file_extension": ".py",
   "mimetype": "text/x-python",
   "name": "python",
   "nbconvert_exporter": "python",
   "pygments_lexer": "ipython3",
   "version": "3.11.0"
  },
  "orig_nbformat": 4,
  "vscode": {
   "interpreter": {
    "hash": "72b2382ece9768098284d92bbc69d35954e75b60d1e25897d1389c232f4796f0"
   }
  }
 },
 "nbformat": 4,
 "nbformat_minor": 2
}

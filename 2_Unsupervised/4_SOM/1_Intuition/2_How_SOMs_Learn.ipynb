{
 "cells": [
  {
   "cell_type": "markdown",
   "metadata": {},
   "source": [
    "<img src=\"./images/SOMs_Learn.png\" width=720px>"
   ]
  },
  {
   "cell_type": "markdown",
   "metadata": {},
   "source": [
    "- The weights are updated by **comparing** the *input vector* to the *weights* of the neurons in the network.\n",
    "- The neuron with the weights that are closest to the input vector is called the **winning neuron**.\n",
    "- The winning neuron and its neighbors are **updated** to be **closer** to the input vector.\n",
    "- The weights of the winning neuron are updated by a larger amount than the weights of the neighbors.\n",
    "- This process is called **competitive learning**.\n",
    "- The weights of the neurons are updated by the following equation:  \n",
    "$\\mathbf{w}_{i,j} = \\mathbf{w}_{i,j} + \\eta \\left( \\mathbf{x} - \\mathbf{w}_{i,j} \\right)$  \n",
    "where, $\\eta$ is the learning rate."
   ]
  }
 ],
 "metadata": {
  "kernelspec": {
   "display_name": "Python 3.10.4 64-bit",
   "language": "python",
   "name": "python3"
  },
  "language_info": {
   "name": "python",
   "version": "3.10.4"
  },
  "orig_nbformat": 4,
  "vscode": {
   "interpreter": {
    "hash": "a42ccb73e7d9bfdf27e036f1d2b8b681e55fc0743cc5586bc2474d4a60f4b886"
   }
  }
 },
 "nbformat": 4,
 "nbformat_minor": 2
}
